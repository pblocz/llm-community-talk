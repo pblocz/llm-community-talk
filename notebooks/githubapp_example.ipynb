{
 "cells": [
  {
   "cell_type": "markdown",
   "metadata": {},
   "source": [
    "# GitHub Agent\n",
    "\n",
    "This agent is set up to read issues in a repository and adress them.\n",
    "Follow instructions in the documentation to configure: https://python.langchain.com/docs/integrations/toolkits/github"
   ]
  },
  {
   "cell_type": "code",
   "execution_count": null,
   "metadata": {},
   "outputs": [],
   "source": [
    "import os\n",
    "from langchain.agents.agent_types import AgentType\n",
    "from langchain.agents import initialize_agent\n",
    "from langchain.agents.agent_toolkits.github.toolkit import GitHubToolkit\n",
    "from langchain.llms import OpenAI\n",
    "from langchain.utilities.github import GitHubAPIWrapper"
   ]
  },
  {
   "cell_type": "code",
   "execution_count": null,
   "metadata": {},
   "outputs": [],
   "source": [
    "import json\n",
    "import os\n",
    "import openai\n",
    "\n",
    "with open('../settings.json') as f:\n",
    "    data = json.load(f)\n",
    "\n",
    "os.environ['OPENAI_API_KEY'] = data['API_KEY']\n",
    "\n",
    "# Set your environment variables using os.environ\n",
    "os.environ[\"GITHUB_APP_ID\"] = data[\"GITHUB_APP_ID\"]\n",
    "os.environ[\"GITHUB_APP_PRIVATE_KEY\"] = data[\"GITHUB_APP_PRIVATE_KEY\"]\n",
    "os.environ[\"GITHUB_REPOSITORY\"] = data[\"GITHUB_REPOSITORY\"]\n",
    "os.environ[\"GITHUB_BRANCH\"] = data[\"GITHUB_BRANCH\"]\n",
    "os.environ[\"GITHUB_BASE_BRANCH\"] = data[\"GITHUB_BASE_BRANCH\"]\n",
    "\n",
    "# This example also requires an OpenAI API key\n",
    "openai.api_key = os.environ['OPENAI_API_KEY']"
   ]
  },
  {
   "cell_type": "code",
   "execution_count": null,
   "metadata": {},
   "outputs": [],
   "source": [
    "from langchain.tools.github.tool import GitHubAction\n",
    "from langchain.tools import DuckDuckGoSearchRun\n",
    "from langchain.agents import Tool\n",
    "from langchain.chat_models import ChatOpenAI\n",
    "\n",
    "tools = []\n",
    "unwanted_tools = ['Get Issue','Delete File', 'Create File']\n",
    "\n",
    "for tool in toolkit.get_tools():\n",
    "    if tool.name not in unwanted_tools:\n",
    "        tools.append(tool)\n",
    "tools+= [\n",
    "    Tool(\n",
    "        name = \"Search\",\n",
    "        func = DuckDuckGoSearchRun().run,\n",
    "        description = \"useful for when you need to search the web\"\n",
    "    )]\n",
    "        \n",
    "agent = initialize_agent(\n",
    "    tools = tools,\n",
    "    llm = ChatOpenAI(temperature=0.1),\n",
    "    agent = AgentType.ZERO_SHOT_REACT_DESCRIPTION,\n",
    "    verbose = True\n",
    ")"
   ]
  },
  {
   "cell_type": "code",
   "execution_count": null,
   "metadata": {},
   "outputs": [],
   "source": [
    "agent.run(\"\"\"You are a bot that collaborates on a repository. \n",
    "You are tasked with checkin any open issues and trying to solve it to the best of your capabilities. \n",
    "Remember to first make a plan and pay attention to details like file names and commonsense.\n",
    "Then execute the plan and use tools appropriately.\n",
    "Finally, make a pull request to merge your changes.\n",
    "          \"\"\")"
   ]
  }
 ],
 "metadata": {
  "kernelspec": {
   "display_name": "Python 3",
   "language": "python",
   "name": "python3"
  },
  "language_info": {
   "codemirror_mode": {
    "name": "ipython",
    "version": 3
   },
   "file_extension": ".py",
   "mimetype": "text/x-python",
   "name": "python",
   "nbconvert_exporter": "python",
   "pygments_lexer": "ipython3",
   "version": "3.11.5"
  },
  "orig_nbformat": 4
 },
 "nbformat": 4,
 "nbformat_minor": 2
}
